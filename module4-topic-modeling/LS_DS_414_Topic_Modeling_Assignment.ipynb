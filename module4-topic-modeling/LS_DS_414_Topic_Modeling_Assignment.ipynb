{
 "cells": [
  {
   "cell_type": "markdown",
   "metadata": {},
   "source": [
    "<img align=\"left\" src=\"https://lever-client-logos.s3.amazonaws.com/864372b1-534c-480e-acd5-9711f850815c-1524247202159.png\" width=200>\n",
    "<br></br>\n",
    "<br></br>\n",
    "\n",
    "# Topic Modeling\n",
    "## *Data Science Unit 4 Sprint 1 Assignment 4*\n",
    "\n",
    "Analyze a corpus of Amazon reviews from Unit 4 Sprint 1 Module 1's lecture using topic modeling: \n",
    "\n",
    "- Fit a Gensim LDA topic model on Amazon Reviews\n",
    "- Select appropriate number of topics\n",
    "- Create some dope visualization of the topics\n",
    "- Write a few bullets on your findings in markdown at the end\n",
    "- **Note**: You don't *have* to use generators for this assignment"
   ]
  },
  {
   "cell_type": "code",
   "execution_count": 27,
   "metadata": {},
   "outputs": [],
   "source": [
    "import numpy as np\n",
    "import pandas as pd\n",
    "import gensim\n",
    "import os\n",
    "import re\n",
    "import sys\n",
    "\n",
    "from gensim.utils import simple_preprocess\n",
    "from gensim.parsing.preprocessing import STOPWORDS\n",
    "from gensim import corpora\n",
    "\n",
    "from gensim.models.ldamulticore import LdaMulticore"
   ]
  },
  {
   "cell_type": "code",
   "execution_count": 6,
   "metadata": {},
   "outputs": [
    {
     "name": "stdout",
     "output_type": "stream",
     "text": [
      "Archive:  /Users/Elizabeth/DS-Unit-4-Sprint-1-NLP/module1-text-data/data/Datafiniti_Amazon_Consumer_Reviews_of_Amazon_Products_May19.csv.zip\n",
      "  inflating: Datafiniti_Amazon_Consumer_Reviews_of_Amazon_Products_May19.csv  \n",
      "   creating: __MACOSX/\n",
      "  inflating: __MACOSX/._Datafiniti_Amazon_Consumer_Reviews_of_Amazon_Products_May19.csv  \n"
     ]
    }
   ],
   "source": [
    "!unzip '/Users/Elizabeth/DS-Unit-4-Sprint-1-NLP/module1-text-data/data/Datafiniti_Amazon_Consumer_Reviews_of_Amazon_Products_May19.csv.zip'"
   ]
  },
  {
   "cell_type": "code",
   "execution_count": 2,
   "metadata": {},
   "outputs": [],
   "source": [
    "path = './Datafiniti_Amazon_Consumer_Reviews_of_Amazon_Products_May19.csv'"
   ]
  },
  {
   "cell_type": "code",
   "execution_count": 81,
   "metadata": {},
   "outputs": [
    {
     "data": {
      "text/html": [
       "<div>\n",
       "<style scoped>\n",
       "    .dataframe tbody tr th:only-of-type {\n",
       "        vertical-align: middle;\n",
       "    }\n",
       "\n",
       "    .dataframe tbody tr th {\n",
       "        vertical-align: top;\n",
       "    }\n",
       "\n",
       "    .dataframe thead th {\n",
       "        text-align: right;\n",
       "    }\n",
       "</style>\n",
       "<table border=\"1\" class=\"dataframe\">\n",
       "  <thead>\n",
       "    <tr style=\"text-align: right;\">\n",
       "      <th></th>\n",
       "      <th>name</th>\n",
       "      <th>brand</th>\n",
       "      <th>primaryCategories</th>\n",
       "      <th>reviews.date</th>\n",
       "      <th>reviews.dateSeen</th>\n",
       "      <th>reviews.rating</th>\n",
       "      <th>reviews.text</th>\n",
       "      <th>reviews.title</th>\n",
       "    </tr>\n",
       "  </thead>\n",
       "  <tbody>\n",
       "    <tr>\n",
       "      <th>0</th>\n",
       "      <td>AmazonBasics AAA Performance Alkaline Batterie...</td>\n",
       "      <td>Amazonbasics</td>\n",
       "      <td>Health &amp; Beauty</td>\n",
       "      <td>2017-03-02</td>\n",
       "      <td>2017-08-28</td>\n",
       "      <td>3</td>\n",
       "      <td>I order 3 of them and one of the item is bad q...</td>\n",
       "      <td>... 3 of them and one of the item is bad quali...</td>\n",
       "    </tr>\n",
       "    <tr>\n",
       "      <th>1</th>\n",
       "      <td>AmazonBasics AAA Performance Alkaline Batterie...</td>\n",
       "      <td>Amazonbasics</td>\n",
       "      <td>Health &amp; Beauty</td>\n",
       "      <td>2016-08-31</td>\n",
       "      <td>2017-08-28</td>\n",
       "      <td>4</td>\n",
       "      <td>Bulk is always the less expensive way to go fo...</td>\n",
       "      <td>... always the less expensive way to go for pr...</td>\n",
       "    </tr>\n",
       "    <tr>\n",
       "      <th>2</th>\n",
       "      <td>AmazonBasics AAA Performance Alkaline Batterie...</td>\n",
       "      <td>Amazonbasics</td>\n",
       "      <td>Health &amp; Beauty</td>\n",
       "      <td>2016-12-06</td>\n",
       "      <td>2017-08-28</td>\n",
       "      <td>5</td>\n",
       "      <td>Well they are not Duracell but for the price i...</td>\n",
       "      <td>... are not Duracell but for the price i am ha...</td>\n",
       "    </tr>\n",
       "  </tbody>\n",
       "</table>\n",
       "</div>"
      ],
      "text/plain": [
       "                                                name         brand  \\\n",
       "0  AmazonBasics AAA Performance Alkaline Batterie...  Amazonbasics   \n",
       "1  AmazonBasics AAA Performance Alkaline Batterie...  Amazonbasics   \n",
       "2  AmazonBasics AAA Performance Alkaline Batterie...  Amazonbasics   \n",
       "\n",
       "  primaryCategories reviews.date reviews.dateSeen  reviews.rating  \\\n",
       "0   Health & Beauty   2017-03-02       2017-08-28               3   \n",
       "1   Health & Beauty   2016-08-31       2017-08-28               4   \n",
       "2   Health & Beauty   2016-12-06       2017-08-28               5   \n",
       "\n",
       "                                        reviews.text  \\\n",
       "0  I order 3 of them and one of the item is bad q...   \n",
       "1  Bulk is always the less expensive way to go fo...   \n",
       "2  Well they are not Duracell but for the price i...   \n",
       "\n",
       "                                       reviews.title  \n",
       "0  ... 3 of them and one of the item is bad quali...  \n",
       "1  ... always the less expensive way to go for pr...  \n",
       "2  ... are not Duracell but for the price i am ha...  "
      ]
     },
     "execution_count": 81,
     "metadata": {},
     "output_type": "execute_result"
    }
   ],
   "source": [
    "amazon = pd.read_csv(path)\n",
    "\n",
    "\n",
    "def wrangle(df):\n",
    "    df['reviews.date'] = [i.split('T')[0] for i in df['reviews.date']]\n",
    "    df['reviews.dateSeen'] = [i.split('T')[0] for i in df['reviews.dateSeen']]\n",
    "    \n",
    "    drop_columns = ['reviews.sourceURLs', 'sourceURLs', 'reviews.numHelpful', 'reviews.id'\n",
    "                    , 'reviews.doRecommend', 'reviews.didPurchase', 'keys', 'imageURLs', 'asins'\n",
    "                    , 'dateAdded', 'dateUpdated', 'manufacturerNumber', 'id', 'categories' \n",
    "                    ,'reviews.username', 'manufacturer']\n",
    "    df.drop(columns=drop_columns, inplace=True)\n",
    "    return df\n",
    "\n",
    "amazon = wrangle(amazon)\n",
    "amazon.head(3)"
   ]
  },
  {
   "cell_type": "code",
   "execution_count": 86,
   "metadata": {},
   "outputs": [
    {
     "data": {
      "text/plain": [
       "good                0.002118\n",
       "great               0.001729\n",
       "Good                0.001482\n",
       "Great               0.001341\n",
       "ok                  0.001165\n",
       "Great price         0.001059\n",
       "great price         0.000988\n",
       "Excellent           0.000988\n",
       "Great value         0.000953\n",
       "good price          0.000812\n",
       "great value         0.000777\n",
       "Great price!        0.000635\n",
       "good value          0.000600\n",
       "Great value.        0.000565\n",
       "good deal           0.000565\n",
       "OK                  0.000529\n",
       "Great product       0.000529\n",
       "Good deal           0.000529\n",
       "Great deal          0.000529\n",
       "As expected         0.000529\n",
       "Good batteries      0.000494\n",
       "Good value          0.000494\n",
       "great deal          0.000459\n",
       "So far so good      0.000459\n",
       "Great batteries.    0.000459\n",
       "Great value!        0.000459\n",
       "Good price          0.000459\n",
       "Work great          0.000424\n",
       "Good buy            0.000424\n",
       "As described        0.000388\n",
       "Great price.        0.000388\n",
       "Good value.         0.000388\n",
       "Great deal!         0.000388\n",
       "good batteries      0.000388\n",
       "very good           0.000388\n",
       "Great buy           0.000388\n",
       "Great!              0.000388\n",
       "Great batteries     0.000388\n",
       "excellent           0.000388\n",
       "as expected         0.000388\n",
       "Nice                0.000353\n",
       "Work great.         0.000353\n",
       "Ok                  0.000353\n",
       "Perfect!            0.000353\n",
       "good product        0.000353\n",
       "great batteries     0.000353\n",
       "love it             0.000318\n",
       "works great         0.000318\n",
       "Great product.      0.000318\n",
       "Long lasting        0.000318\n",
       "Name: reviews.text, dtype: float64"
      ]
     },
     "execution_count": 86,
     "metadata": {},
     "output_type": "execute_result"
    }
   ],
   "source": [
    "df = amazon\n",
    "df['reviews.text'].value_counts(normalize=True)[:50]"
   ]
  },
  {
   "cell_type": "code",
   "execution_count": 87,
   "metadata": {},
   "outputs": [],
   "source": [
    "import re\n",
    "def tokenize(text):\n",
    "    \"\"\"Parses a string into a list of semantic units (words)\n",
    "    \n",
    "    Args:\n",
    "        text (str): The string that the function will tokenize.\n",
    "\n",
    "    Returns:\n",
    "        list: tokens parsed out by the mechanics of your choice\n",
    "    \"\"\"\n",
    "    tokens = re.sub(r'[^a-zA-Z ^0-9]', '', text)\n",
    "    tokens = tokens.lower().split()\n",
    "    \n",
    "    return tokens\n",
    "\n",
    "df['tokens'] = [tokenize(i) for i in df['reviews.text']]"
   ]
  },
  {
   "cell_type": "code",
   "execution_count": 88,
   "metadata": {},
   "outputs": [
    {
     "data": {
      "text/plain": [
       "0    [i, order, 3, of, them, and, one, of, the, ite...\n",
       "1    [bulk, is, always, the, less, expensive, way, ...\n",
       "2    [well, they, are, not, duracell, but, for, the...\n",
       "3    [seem, to, work, as, well, as, name, brand, ba...\n",
       "4    [these, batteries, are, very, long, lasting, t...\n",
       "Name: tokens, dtype: object"
      ]
     },
     "execution_count": 88,
     "metadata": {},
     "output_type": "execute_result"
    }
   ],
   "source": [
    "df['tokens'].head()"
   ]
  },
  {
   "cell_type": "code",
   "execution_count": 89,
   "metadata": {},
   "outputs": [
    {
     "data": {
      "text/plain": [
       "'... 3 of them and one of the item is bad quality. Is missing backup spring so I have ...'"
      ]
     },
     "execution_count": 89,
     "metadata": {},
     "output_type": "execute_result"
    }
   ],
   "source": [
    "df['reviews.title'][0]"
   ]
  },
  {
   "cell_type": "code",
   "execution_count": 90,
   "metadata": {},
   "outputs": [],
   "source": [
    "titles = [t[4:] for t in df['brand']]"
   ]
  },
  {
   "cell_type": "code",
   "execution_count": 91,
   "metadata": {},
   "outputs": [],
   "source": [
    "id2word = corpora.Dictionary(df['tokens'])"
   ]
  },
  {
   "cell_type": "code",
   "execution_count": 98,
   "metadata": {},
   "outputs": [
    {
     "data": {
      "text/plain": [
       "57"
      ]
     },
     "execution_count": 98,
     "metadata": {},
     "output_type": "execute_result"
    }
   ],
   "source": [
    "id2word.token2id['amazon']"
   ]
  },
  {
   "cell_type": "code",
   "execution_count": 99,
   "metadata": {},
   "outputs": [
    {
     "data": {
      "text/plain": [
       "56"
      ]
     },
     "execution_count": 99,
     "metadata": {},
     "output_type": "execute_result"
    }
   ],
   "source": [
    "sys.getsizeof(id2word)"
   ]
  },
  {
   "cell_type": "code",
   "execution_count": 100,
   "metadata": {},
   "outputs": [
    {
     "data": {
      "text/plain": [
       "12895"
      ]
     },
     "execution_count": 100,
     "metadata": {},
     "output_type": "execute_result"
    }
   ],
   "source": [
    "len(id2word.keys())"
   ]
  },
  {
   "cell_type": "code",
   "execution_count": 101,
   "metadata": {},
   "outputs": [],
   "source": [
    "id2word.filter_extremes(no_below=20, no_above=0.85)"
   ]
  },
  {
   "cell_type": "code",
   "execution_count": 102,
   "metadata": {},
   "outputs": [
    {
     "data": {
      "text/plain": [
       "1866"
      ]
     },
     "execution_count": 102,
     "metadata": {},
     "output_type": "execute_result"
    }
   ],
   "source": [
    "len(id2word.keys())"
   ]
  },
  {
   "cell_type": "code",
   "execution_count": 103,
   "metadata": {},
   "outputs": [],
   "source": [
    "corpus = [id2word.doc2bow(text) for text in df['tokens']]"
   ]
  },
  {
   "cell_type": "code",
   "execution_count": 104,
   "metadata": {},
   "outputs": [],
   "source": [
    "lda = LdaMulticore(corpus=corpus,\n",
    "                   id2word=id2word,\n",
    "                   random_state=42,\n",
    "                   num_topics = 15,\n",
    "                   passes=10,\n",
    "                   workers=2\n",
    "                  )"
   ]
  },
  {
   "cell_type": "code",
   "execution_count": 105,
   "metadata": {},
   "outputs": [
    {
     "data": {
      "text/plain": [
       "[(0,\n",
       "  '0.061*\"the\" + 0.052*\"it\" + 0.036*\"a\" + 0.036*\"to\" + 0.030*\"i\" + 0.028*\"is\" + 0.022*\"this\" + 0.021*\"and\" + 0.018*\"as\" + 0.016*\"you\"'),\n",
       " (1,\n",
       "  '0.130*\"tablet\" + 0.087*\"so\" + 0.057*\"for\" + 0.048*\"good\" + 0.047*\"far\" + 0.033*\"this\" + 0.031*\"no\" + 0.029*\"a\" + 0.028*\"kids\" + 0.025*\"with\"'),\n",
       " (2,\n",
       "  '0.091*\"i\" + 0.059*\"it\" + 0.047*\"was\" + 0.035*\"a\" + 0.034*\"my\" + 0.033*\"and\" + 0.033*\"the\" + 0.033*\"for\" + 0.032*\"this\" + 0.022*\"with\"'),\n",
       " (3,\n",
       "  '0.092*\"the\" + 0.045*\"is\" + 0.043*\"buy\" + 0.040*\"best\" + 0.035*\"quality\" + 0.033*\"good\" + 0.032*\"and\" + 0.031*\"price\" + 0.025*\"great\" + 0.024*\"battery\"'),\n",
       " (4,\n",
       "  '0.049*\"i\" + 0.045*\"not\" + 0.041*\"to\" + 0.036*\"a\" + 0.033*\"tablet\" + 0.032*\"it\" + 0.031*\"what\" + 0.029*\"do\" + 0.029*\"but\" + 0.025*\"does\"'),\n",
       " (5,\n",
       "  '0.051*\"you\" + 0.047*\"to\" + 0.036*\"the\" + 0.029*\"have\" + 0.026*\"a\" + 0.021*\"it\" + 0.020*\"be\" + 0.019*\"if\" + 0.016*\"will\" + 0.016*\"that\"'),\n",
       " (6,\n",
       "  '0.081*\"i\" + 0.042*\"kindle\" + 0.042*\"my\" + 0.037*\"it\" + 0.035*\"and\" + 0.035*\"one\" + 0.032*\"the\" + 0.032*\"to\" + 0.030*\"love\" + 0.027*\"had\"'),\n",
       " (7,\n",
       "  '0.094*\"the\" + 0.047*\"is\" + 0.037*\"and\" + 0.035*\"a\" + 0.024*\"fire\" + 0.021*\"screen\" + 0.021*\"to\" + 0.019*\"kindle\" + 0.018*\"this\" + 0.018*\"than\"'),\n",
       " (8,\n",
       "  '0.047*\"i\" + 0.045*\"the\" + 0.030*\"a\" + 0.028*\"of\" + 0.028*\"in\" + 0.026*\"and\" + 0.024*\"to\" + 0.022*\"batteries\" + 0.017*\"these\" + 0.015*\"have\"'),\n",
       " (9,\n",
       "  '0.071*\"to\" + 0.054*\"and\" + 0.047*\"the\" + 0.043*\"tablet\" + 0.038*\"easy\" + 0.034*\"use\" + 0.033*\"apps\" + 0.033*\"for\" + 0.028*\"is\" + 0.026*\"of\"'),\n",
       " (10,\n",
       "  '0.068*\"it\" + 0.066*\"for\" + 0.062*\"my\" + 0.050*\"and\" + 0.038*\"she\" + 0.034*\"loves\" + 0.031*\"this\" + 0.028*\"to\" + 0.027*\"old\" + 0.023*\"her\"'),\n",
       " (11,\n",
       "  '0.121*\"they\" + 0.077*\"and\" + 0.062*\"them\" + 0.060*\"work\" + 0.057*\"are\" + 0.043*\"for\" + 0.034*\"these\" + 0.034*\"great\" + 0.032*\"love\" + 0.030*\"kids\"'),\n",
       " (12,\n",
       "  '0.082*\"batteries\" + 0.082*\"as\" + 0.038*\"long\" + 0.037*\"last\" + 0.031*\"these\" + 0.031*\"the\" + 0.025*\"they\" + 0.022*\"brand\" + 0.020*\"just\" + 0.020*\"name\"'),\n",
       " (13,\n",
       "  '0.067*\"the\" + 0.035*\"it\" + 0.033*\"for\" + 0.031*\"is\" + 0.030*\"and\" + 0.024*\"a\" + 0.024*\"kids\" + 0.024*\"i\" + 0.023*\"to\" + 0.020*\"that\"'),\n",
       " (14,\n",
       "  '0.177*\"great\" + 0.101*\"price\" + 0.085*\"good\" + 0.073*\"for\" + 0.063*\"a\" + 0.050*\"product\" + 0.036*\"works\" + 0.032*\"and\" + 0.027*\"value\" + 0.021*\"recommend\"')]"
      ]
     },
     "execution_count": 105,
     "metadata": {},
     "output_type": "execute_result"
    }
   ],
   "source": [
    "lda.print_topics()"
   ]
  },
  {
   "cell_type": "code",
   "execution_count": 106,
   "metadata": {},
   "outputs": [
    {
     "name": "stdout",
     "output_type": "stream",
     "text": [
      "the it a to i is this and as you\n",
      "\n",
      "\n",
      "tablet so for good far this no a kids with\n",
      "\n",
      "\n",
      "i it was a my and the for this with\n",
      "\n",
      "\n",
      "the is buy best quality good and price great battery\n",
      "\n",
      "\n",
      "i not to a tablet it what do but does\n",
      "\n",
      "\n",
      "you to the have a it be if will that\n",
      "\n",
      "\n",
      "i kindle my it and one the to love had\n",
      "\n",
      "\n",
      "the is and a fire screen to kindle this than\n",
      "\n",
      "\n",
      "i the a of in and to batteries these have\n",
      "\n",
      "\n",
      "to and the tablet easy use apps for is of\n",
      "\n",
      "\n",
      "it for my and she loves this to old her\n",
      "\n",
      "\n",
      "they and them work are for these great love kids\n",
      "\n",
      "\n",
      "batteries as long last these the they brand just name\n",
      "\n",
      "\n",
      "the it for is and a kids i to that\n",
      "\n",
      "\n",
      "great price good for a product works and value recommend\n",
      "\n",
      "\n"
     ]
    }
   ],
   "source": [
    "words = [re.findall(r'\"([^\"]*)\"',t[1]) for t in lda.print_topics()]\n",
    "topics = [' '.join(t[0:10]) for t in words]\n",
    "for t in topics: \n",
    "    print(t)\n",
    "    print(\"\\n\")"
   ]
  },
  {
   "cell_type": "code",
   "execution_count": 107,
   "metadata": {},
   "outputs": [
    {
     "data": {
      "text/plain": [
       "[(3, 0.16716293), (8, 0.80295193)]"
      ]
     },
     "execution_count": 107,
     "metadata": {},
     "output_type": "execute_result"
    }
   ],
   "source": [
    "lda[corpus[0]]"
   ]
  },
  {
   "cell_type": "code",
   "execution_count": 108,
   "metadata": {},
   "outputs": [],
   "source": [
    "distro = [lda[d] for d in corpus]\n",
    "\n",
    "def update(doc):\n",
    "        d_dist = {k:0 for k in range(0,15)}\n",
    "        for t in doc:\n",
    "            d_dist[t[0]] = t[1]\n",
    "        return d_dist\n",
    "    \n",
    "new_distro = [update(d) for d in distro]"
   ]
  },
  {
   "cell_type": "code",
   "execution_count": 117,
   "metadata": {},
   "outputs": [],
   "source": [
    "df = pd.DataFrame.from_records(new_distro, index=titles)\n",
    "df.columns = topics\n",
    "df['brand'] = df.reset_index()['index'].apply(lambda x: x).tolist()"
   ]
  },
  {
   "cell_type": "code",
   "execution_count": 118,
   "metadata": {},
   "outputs": [
    {
     "data": {
      "text/html": [
       "<div>\n",
       "<style scoped>\n",
       "    .dataframe tbody tr th:only-of-type {\n",
       "        vertical-align: middle;\n",
       "    }\n",
       "\n",
       "    .dataframe tbody tr th {\n",
       "        vertical-align: top;\n",
       "    }\n",
       "\n",
       "    .dataframe thead th {\n",
       "        text-align: right;\n",
       "    }\n",
       "</style>\n",
       "<table border=\"1\" class=\"dataframe\">\n",
       "  <thead>\n",
       "    <tr style=\"text-align: right;\">\n",
       "      <th></th>\n",
       "      <th>the it a to i is this and as you</th>\n",
       "      <th>tablet so for good far this no a kids with</th>\n",
       "      <th>i it was a my and the for this with</th>\n",
       "      <th>the is buy best quality good and price great battery</th>\n",
       "      <th>i not to a tablet it what do but does</th>\n",
       "      <th>you to the have a it be if will that</th>\n",
       "      <th>i kindle my it and one the to love had</th>\n",
       "      <th>the is and a fire screen to kindle this than</th>\n",
       "      <th>i the a of in and to batteries these have</th>\n",
       "      <th>to and the tablet easy use apps for is of</th>\n",
       "      <th>it for my and she loves this to old her</th>\n",
       "      <th>they and them work are for these great love kids</th>\n",
       "      <th>batteries as long last these the they brand just name</th>\n",
       "      <th>the it for is and a kids i to that</th>\n",
       "      <th>great price good for a product works and value recommend</th>\n",
       "      <th>brand</th>\n",
       "    </tr>\n",
       "  </thead>\n",
       "  <tbody>\n",
       "    <tr>\n",
       "      <th>onbasics</th>\n",
       "      <td>0.0</td>\n",
       "      <td>0.0</td>\n",
       "      <td>0.000000</td>\n",
       "      <td>0.167180</td>\n",
       "      <td>0.0</td>\n",
       "      <td>0.0</td>\n",
       "      <td>0.0</td>\n",
       "      <td>0.0</td>\n",
       "      <td>0.802935</td>\n",
       "      <td>0.0</td>\n",
       "      <td>0.0</td>\n",
       "      <td>0.0</td>\n",
       "      <td>0.000000</td>\n",
       "      <td>0.0</td>\n",
       "      <td>0.0</td>\n",
       "      <td>onbasics</td>\n",
       "    </tr>\n",
       "    <tr>\n",
       "      <th>onbasics</th>\n",
       "      <td>0.0</td>\n",
       "      <td>0.0</td>\n",
       "      <td>0.000000</td>\n",
       "      <td>0.265772</td>\n",
       "      <td>0.0</td>\n",
       "      <td>0.0</td>\n",
       "      <td>0.0</td>\n",
       "      <td>0.0</td>\n",
       "      <td>0.000000</td>\n",
       "      <td>0.0</td>\n",
       "      <td>0.0</td>\n",
       "      <td>0.0</td>\n",
       "      <td>0.672323</td>\n",
       "      <td>0.0</td>\n",
       "      <td>0.0</td>\n",
       "      <td>onbasics</td>\n",
       "    </tr>\n",
       "    <tr>\n",
       "      <th>onbasics</th>\n",
       "      <td>0.0</td>\n",
       "      <td>0.0</td>\n",
       "      <td>0.350061</td>\n",
       "      <td>0.000000</td>\n",
       "      <td>0.0</td>\n",
       "      <td>0.0</td>\n",
       "      <td>0.0</td>\n",
       "      <td>0.0</td>\n",
       "      <td>0.000000</td>\n",
       "      <td>0.0</td>\n",
       "      <td>0.0</td>\n",
       "      <td>0.0</td>\n",
       "      <td>0.583273</td>\n",
       "      <td>0.0</td>\n",
       "      <td>0.0</td>\n",
       "      <td>onbasics</td>\n",
       "    </tr>\n",
       "    <tr>\n",
       "      <th>onbasics</th>\n",
       "      <td>0.0</td>\n",
       "      <td>0.0</td>\n",
       "      <td>0.000000</td>\n",
       "      <td>0.000000</td>\n",
       "      <td>0.0</td>\n",
       "      <td>0.0</td>\n",
       "      <td>0.0</td>\n",
       "      <td>0.0</td>\n",
       "      <td>0.000000</td>\n",
       "      <td>0.0</td>\n",
       "      <td>0.0</td>\n",
       "      <td>0.0</td>\n",
       "      <td>0.937778</td>\n",
       "      <td>0.0</td>\n",
       "      <td>0.0</td>\n",
       "      <td>onbasics</td>\n",
       "    </tr>\n",
       "    <tr>\n",
       "      <th>onbasics</th>\n",
       "      <td>0.0</td>\n",
       "      <td>0.0</td>\n",
       "      <td>0.000000</td>\n",
       "      <td>0.328652</td>\n",
       "      <td>0.0</td>\n",
       "      <td>0.0</td>\n",
       "      <td>0.0</td>\n",
       "      <td>0.0</td>\n",
       "      <td>0.000000</td>\n",
       "      <td>0.0</td>\n",
       "      <td>0.0</td>\n",
       "      <td>0.0</td>\n",
       "      <td>0.592560</td>\n",
       "      <td>0.0</td>\n",
       "      <td>0.0</td>\n",
       "      <td>onbasics</td>\n",
       "    </tr>\n",
       "  </tbody>\n",
       "</table>\n",
       "</div>"
      ],
      "text/plain": [
       "          the it a to i is this and as you  \\\n",
       "onbasics                               0.0   \n",
       "onbasics                               0.0   \n",
       "onbasics                               0.0   \n",
       "onbasics                               0.0   \n",
       "onbasics                               0.0   \n",
       "\n",
       "          tablet so for good far this no a kids with  \\\n",
       "onbasics                                         0.0   \n",
       "onbasics                                         0.0   \n",
       "onbasics                                         0.0   \n",
       "onbasics                                         0.0   \n",
       "onbasics                                         0.0   \n",
       "\n",
       "          i it was a my and the for this with  \\\n",
       "onbasics                             0.000000   \n",
       "onbasics                             0.000000   \n",
       "onbasics                             0.350061   \n",
       "onbasics                             0.000000   \n",
       "onbasics                             0.000000   \n",
       "\n",
       "          the is buy best quality good and price great battery  \\\n",
       "onbasics                                           0.167180      \n",
       "onbasics                                           0.265772      \n",
       "onbasics                                           0.000000      \n",
       "onbasics                                           0.000000      \n",
       "onbasics                                           0.328652      \n",
       "\n",
       "          i not to a tablet it what do but does  \\\n",
       "onbasics                                    0.0   \n",
       "onbasics                                    0.0   \n",
       "onbasics                                    0.0   \n",
       "onbasics                                    0.0   \n",
       "onbasics                                    0.0   \n",
       "\n",
       "          you to the have a it be if will that  \\\n",
       "onbasics                                   0.0   \n",
       "onbasics                                   0.0   \n",
       "onbasics                                   0.0   \n",
       "onbasics                                   0.0   \n",
       "onbasics                                   0.0   \n",
       "\n",
       "          i kindle my it and one the to love had  \\\n",
       "onbasics                                     0.0   \n",
       "onbasics                                     0.0   \n",
       "onbasics                                     0.0   \n",
       "onbasics                                     0.0   \n",
       "onbasics                                     0.0   \n",
       "\n",
       "          the is and a fire screen to kindle this than  \\\n",
       "onbasics                                           0.0   \n",
       "onbasics                                           0.0   \n",
       "onbasics                                           0.0   \n",
       "onbasics                                           0.0   \n",
       "onbasics                                           0.0   \n",
       "\n",
       "          i the a of in and to batteries these have  \\\n",
       "onbasics                                   0.802935   \n",
       "onbasics                                   0.000000   \n",
       "onbasics                                   0.000000   \n",
       "onbasics                                   0.000000   \n",
       "onbasics                                   0.000000   \n",
       "\n",
       "          to and the tablet easy use apps for is of  \\\n",
       "onbasics                                        0.0   \n",
       "onbasics                                        0.0   \n",
       "onbasics                                        0.0   \n",
       "onbasics                                        0.0   \n",
       "onbasics                                        0.0   \n",
       "\n",
       "          it for my and she loves this to old her  \\\n",
       "onbasics                                      0.0   \n",
       "onbasics                                      0.0   \n",
       "onbasics                                      0.0   \n",
       "onbasics                                      0.0   \n",
       "onbasics                                      0.0   \n",
       "\n",
       "          they and them work are for these great love kids  \\\n",
       "onbasics                                               0.0   \n",
       "onbasics                                               0.0   \n",
       "onbasics                                               0.0   \n",
       "onbasics                                               0.0   \n",
       "onbasics                                               0.0   \n",
       "\n",
       "          batteries as long last these the they brand just name  \\\n",
       "onbasics                                           0.000000       \n",
       "onbasics                                           0.672323       \n",
       "onbasics                                           0.583273       \n",
       "onbasics                                           0.937778       \n",
       "onbasics                                           0.592560       \n",
       "\n",
       "          the it for is and a kids i to that  \\\n",
       "onbasics                                 0.0   \n",
       "onbasics                                 0.0   \n",
       "onbasics                                 0.0   \n",
       "onbasics                                 0.0   \n",
       "onbasics                                 0.0   \n",
       "\n",
       "          great price good for a product works and value recommend     brand  \n",
       "onbasics                                                0.0         onbasics  \n",
       "onbasics                                                0.0         onbasics  \n",
       "onbasics                                                0.0         onbasics  \n",
       "onbasics                                                0.0         onbasics  \n",
       "onbasics                                                0.0         onbasics  "
      ]
     },
     "execution_count": 118,
     "metadata": {},
     "output_type": "execute_result"
    }
   ],
   "source": [
    "df.head()"
   ]
  },
  {
   "cell_type": "code",
   "execution_count": 119,
   "metadata": {},
   "outputs": [
    {
     "data": {
      "text/html": [
       "<div>\n",
       "<style scoped>\n",
       "    .dataframe tbody tr th:only-of-type {\n",
       "        vertical-align: middle;\n",
       "    }\n",
       "\n",
       "    .dataframe tbody tr th {\n",
       "        vertical-align: top;\n",
       "    }\n",
       "\n",
       "    .dataframe thead th {\n",
       "        text-align: right;\n",
       "    }\n",
       "</style>\n",
       "<table border=\"1\" class=\"dataframe\">\n",
       "  <thead>\n",
       "    <tr style=\"text-align: right;\">\n",
       "      <th></th>\n",
       "      <th>the it a to i is this and as you</th>\n",
       "      <th>tablet so for good far this no a kids with</th>\n",
       "      <th>i it was a my and the for this with</th>\n",
       "      <th>the is buy best quality good and price great battery</th>\n",
       "      <th>i not to a tablet it what do but does</th>\n",
       "      <th>you to the have a it be if will that</th>\n",
       "      <th>i kindle my it and one the to love had</th>\n",
       "      <th>the is and a fire screen to kindle this than</th>\n",
       "      <th>i the a of in and to batteries these have</th>\n",
       "      <th>to and the tablet easy use apps for is of</th>\n",
       "      <th>it for my and she loves this to old her</th>\n",
       "      <th>they and them work are for these great love kids</th>\n",
       "      <th>batteries as long last these the they brand just name</th>\n",
       "      <th>the it for is and a kids i to that</th>\n",
       "      <th>great price good for a product works and value recommend</th>\n",
       "    </tr>\n",
       "    <tr>\n",
       "      <th>brand</th>\n",
       "      <th></th>\n",
       "      <th></th>\n",
       "      <th></th>\n",
       "      <th></th>\n",
       "      <th></th>\n",
       "      <th></th>\n",
       "      <th></th>\n",
       "      <th></th>\n",
       "      <th></th>\n",
       "      <th></th>\n",
       "      <th></th>\n",
       "      <th></th>\n",
       "      <th></th>\n",
       "      <th></th>\n",
       "      <th></th>\n",
       "    </tr>\n",
       "  </thead>\n",
       "  <tbody>\n",
       "    <tr>\n",
       "      <th>on</th>\n",
       "      <td>0.058061</td>\n",
       "      <td>0.040428</td>\n",
       "      <td>0.106815</td>\n",
       "      <td>0.032203</td>\n",
       "      <td>0.052268</td>\n",
       "      <td>0.044165</td>\n",
       "      <td>0.072711</td>\n",
       "      <td>0.079582</td>\n",
       "      <td>0.023987</td>\n",
       "      <td>0.114957</td>\n",
       "      <td>0.160623</td>\n",
       "      <td>0.024013</td>\n",
       "      <td>0.007183</td>\n",
       "      <td>0.095410</td>\n",
       "      <td>0.047279</td>\n",
       "    </tr>\n",
       "    <tr>\n",
       "      <th>onBasics</th>\n",
       "      <td>0.137390</td>\n",
       "      <td>0.002222</td>\n",
       "      <td>0.068753</td>\n",
       "      <td>0.026464</td>\n",
       "      <td>0.084788</td>\n",
       "      <td>0.035255</td>\n",
       "      <td>0.085208</td>\n",
       "      <td>0.179564</td>\n",
       "      <td>0.244723</td>\n",
       "      <td>0.012615</td>\n",
       "      <td>0.002222</td>\n",
       "      <td>0.005485</td>\n",
       "      <td>0.023123</td>\n",
       "      <td>0.032449</td>\n",
       "      <td>0.037238</td>\n",
       "    </tr>\n",
       "    <tr>\n",
       "      <th>onbasics</th>\n",
       "      <td>0.026026</td>\n",
       "      <td>0.032617</td>\n",
       "      <td>0.027097</td>\n",
       "      <td>0.072135</td>\n",
       "      <td>0.037492</td>\n",
       "      <td>0.042716</td>\n",
       "      <td>0.020693</td>\n",
       "      <td>0.012597</td>\n",
       "      <td>0.176041</td>\n",
       "      <td>0.013705</td>\n",
       "      <td>0.011794</td>\n",
       "      <td>0.073187</td>\n",
       "      <td>0.241993</td>\n",
       "      <td>0.013009</td>\n",
       "      <td>0.163811</td>\n",
       "    </tr>\n",
       "  </tbody>\n",
       "</table>\n",
       "</div>"
      ],
      "text/plain": [
       "          the it a to i is this and as you  \\\n",
       "brand                                        \n",
       "on                                0.058061   \n",
       "onBasics                          0.137390   \n",
       "onbasics                          0.026026   \n",
       "\n",
       "          tablet so for good far this no a kids with  \\\n",
       "brand                                                  \n",
       "on                                          0.040428   \n",
       "onBasics                                    0.002222   \n",
       "onbasics                                    0.032617   \n",
       "\n",
       "          i it was a my and the for this with  \\\n",
       "brand                                           \n",
       "on                                   0.106815   \n",
       "onBasics                             0.068753   \n",
       "onbasics                             0.027097   \n",
       "\n",
       "          the is buy best quality good and price great battery  \\\n",
       "brand                                                            \n",
       "on                                                 0.032203      \n",
       "onBasics                                           0.026464      \n",
       "onbasics                                           0.072135      \n",
       "\n",
       "          i not to a tablet it what do but does  \\\n",
       "brand                                             \n",
       "on                                     0.052268   \n",
       "onBasics                               0.084788   \n",
       "onbasics                               0.037492   \n",
       "\n",
       "          you to the have a it be if will that  \\\n",
       "brand                                            \n",
       "on                                    0.044165   \n",
       "onBasics                              0.035255   \n",
       "onbasics                              0.042716   \n",
       "\n",
       "          i kindle my it and one the to love had  \\\n",
       "brand                                              \n",
       "on                                      0.072711   \n",
       "onBasics                                0.085208   \n",
       "onbasics                                0.020693   \n",
       "\n",
       "          the is and a fire screen to kindle this than  \\\n",
       "brand                                                    \n",
       "on                                            0.079582   \n",
       "onBasics                                      0.179564   \n",
       "onbasics                                      0.012597   \n",
       "\n",
       "          i the a of in and to batteries these have  \\\n",
       "brand                                                 \n",
       "on                                         0.023987   \n",
       "onBasics                                   0.244723   \n",
       "onbasics                                   0.176041   \n",
       "\n",
       "          to and the tablet easy use apps for is of  \\\n",
       "brand                                                 \n",
       "on                                         0.114957   \n",
       "onBasics                                   0.012615   \n",
       "onbasics                                   0.013705   \n",
       "\n",
       "          it for my and she loves this to old her  \\\n",
       "brand                                               \n",
       "on                                       0.160623   \n",
       "onBasics                                 0.002222   \n",
       "onbasics                                 0.011794   \n",
       "\n",
       "          they and them work are for these great love kids  \\\n",
       "brand                                                        \n",
       "on                                                0.024013   \n",
       "onBasics                                          0.005485   \n",
       "onbasics                                          0.073187   \n",
       "\n",
       "          batteries as long last these the they brand just name  \\\n",
       "brand                                                             \n",
       "on                                                 0.007183       \n",
       "onBasics                                           0.023123       \n",
       "onbasics                                           0.241993       \n",
       "\n",
       "          the it for is and a kids i to that  \\\n",
       "brand                                          \n",
       "on                                  0.095410   \n",
       "onBasics                            0.032449   \n",
       "onbasics                            0.013009   \n",
       "\n",
       "          great price good for a product works and value recommend  \n",
       "brand                                                               \n",
       "on                                                 0.047279         \n",
       "onBasics                                           0.037238         \n",
       "onbasics                                           0.163811         "
      ]
     },
     "execution_count": 119,
     "metadata": {},
     "output_type": "execute_result"
    }
   ],
   "source": [
    "df.groupby('brand').mean()"
   ]
  },
  {
   "cell_type": "code",
   "execution_count": 120,
   "metadata": {},
   "outputs": [],
   "source": [
    "from gensim.models.coherencemodel import CoherenceModel\n",
    "\n",
    "def compute_coherence_values(dictionary, corpus, df, limit, start=2, step=3, passes=5):\n",
    "    \"\"\"\n",
    "    Compute c_v coherence for various number of topics\n",
    "\n",
    "    Parameters:\n",
    "    ----------\n",
    "    dictionary : Gensim dictionary\n",
    "    corpus : Gensim corpus\n",
    "    path : path to input texts\n",
    "    limit : Max num of topics\n",
    "    passes: the number of times the entire lda model & coherence values are calculated\n",
    "\n",
    "    Returns:\n",
    "    -------\n",
    "    coherence_values : Coherence values corresponding to the LDA model with respective number of topics\n",
    "    \"\"\"\n",
    "    \n",
    "    coherence_values = []\n",
    "    \n",
    "    tokens = [tokenize(i) for i in df['reviews.text']]\n",
    "    \n",
    "    for iter_ in range(passes):\n",
    "        for num_topics in range(start, limit, step):\n",
    "            stream = df['tokens']\n",
    "            model = LdaMulticore(corpus=corpus, num_topics=num_topics, id2word=dictionary, workers=2)\n",
    "            coherencemodel = CoherenceModel(model=model,dictionary=dictionary,corpus=corpus, coherence='u_mass')\n",
    "            coherence_values.append({'pass': iter_, \n",
    "                                     'num_topics': num_topics, \n",
    "                                     'coherence_score': coherencemodel.get_coherence()\n",
    "                                    })\n",
    "\n",
    "    return coherence_values"
   ]
  },
  {
   "cell_type": "code",
   "execution_count": null,
   "metadata": {},
   "outputs": [],
   "source": [
    "# Can take a long time to run.\n",
    "coherence_values = compute_coherence_values(dictionary=id2word, \n",
    "                                                        corpus=corpus, \n",
    "                                                        df=amazon, \n",
    "                                                        start=2, \n",
    "                                                        limit=40, \n",
    "                                                        step=6,\n",
    "                                                        passes=40)"
   ]
  },
  {
   "cell_type": "code",
   "execution_count": null,
   "metadata": {},
   "outputs": [],
   "source": []
  },
  {
   "cell_type": "markdown",
   "metadata": {},
   "source": [
    "## Stretch Goals\n",
    "\n",
    "* Incorporate Named Entity Recognition in your analysis\n",
    "* Incorporate some custom pre-processing from our previous lessons (like spacy lemmatization)\n",
    "* Analyze a dataset of interest to you with topic modeling"
   ]
  },
  {
   "cell_type": "code",
   "execution_count": null,
   "metadata": {},
   "outputs": [],
   "source": []
  },
  {
   "cell_type": "code",
   "execution_count": null,
   "metadata": {},
   "outputs": [],
   "source": []
  }
 ],
 "metadata": {
  "kernelspec": {
   "display_name": "U4-S1-NLP (Python3)",
   "language": "python",
   "name": "u4-s1-nlp"
  },
  "language_info": {
   "codemirror_mode": {
    "name": "ipython",
    "version": 3
   },
   "file_extension": ".py",
   "mimetype": "text/x-python",
   "name": "python",
   "nbconvert_exporter": "python",
   "pygments_lexer": "ipython3",
   "version": "3.7.3"
  }
 },
 "nbformat": 4,
 "nbformat_minor": 4
}
